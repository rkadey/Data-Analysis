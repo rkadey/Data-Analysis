{
 "cells": [
  {
   "cell_type": "markdown",
   "id": "102ce12a",
   "metadata": {},
   "source": [
    "# Python Regular Expressions"
   ]
  },
  {
   "cell_type": "markdown",
   "id": "ce4c4a7b",
   "metadata": {},
   "source": [
    "Regular expressions or RegEx is defined as a sequence of characters that are mainly used to find or replace patterns present in the text. In simple words, we can say that a regular expression is a set of characters or a pattern that is used to find substrings in a given string."
   ]
  },
  {
   "cell_type": "markdown",
   "id": "5c8a089a",
   "metadata": {},
   "source": [
    "# Common Python Regex Functions"
   ]
  },
  {
   "cell_type": "markdown",
   "id": "223fe527",
   "metadata": {},
   "source": [
    "1. re.findall()\n",
    "2. re.search()\n",
    "3. re.split()\n",
    "4. re.sub()"
   ]
  },
  {
   "cell_type": "markdown",
   "id": "df9a394d",
   "metadata": {},
   "source": [
    "# Common Python Regex Patterns"
   ]
  },
  {
   "cell_type": "markdown",
   "id": "9d454958",
   "metadata": {},
   "source": [
    "<b>w</b> matches alphanumeric characters, which means a-z, A-Z, and 0-9. It also matches the underscore, _, and the dash, -.<br>\n",
    "<b>d</b> matches digits, which means 0-9.<br>\n",
    "<b>s</b> matches whitespace characters, which include the tab, new line, carriage return, and space characters.<br>\n",
    "<b>S</b> matches non-whitespace characters.<br>\n",
    "<b>.</b> matches any character except the new line character n.<br>\n",
    "<b>-</b> They are used to specify a range.<br>\n",
    "<b>\\ </b> The backslash is a special character used for escaping other special characters."
   ]
  },
  {
   "cell_type": "code",
   "execution_count": 1,
   "id": "35f894b3",
   "metadata": {},
   "outputs": [],
   "source": [
    "import email\n",
    "import re\n",
    "import pandas as pd"
   ]
  },
  {
   "cell_type": "code",
   "execution_count": 36,
   "id": "0a3bf797",
   "metadata": {},
   "outputs": [],
   "source": [
    "#emails = []\n",
    "\n",
    "data = open(r\"sample_emails.txt\", \"r\").read()"
   ]
  },
  {
   "cell_type": "code",
   "execution_count": 38,
   "id": "768f6f90",
   "metadata": {},
   "outputs": [
    {
     "name": "stdout",
     "output_type": "stream",
     "text": [
      "D:\\documents\n",
      "otebook\n"
     ]
    }
   ],
   "source": [
    "path = \"D:\\documents\\notebook\"\n",
    "print(path)"
   ]
  },
  {
   "cell_type": "code",
   "execution_count": 41,
   "id": "3acb6f13",
   "metadata": {},
   "outputs": [
    {
     "name": "stdout",
     "output_type": "stream",
     "text": [
      "raw string: D:\\documents\\notebook\n"
     ]
    }
   ],
   "source": [
    "path = r\"D:\\documents\\notebook\"\n",
    "print(\"raw string:\",path)"
   ]
  },
  {
   "cell_type": "code",
   "execution_count": 37,
   "id": "6fd2bc32",
   "metadata": {
    "scrolled": true
   },
   "outputs": [
    {
     "data": {
      "text/plain": [
       "'From r  Thu Oct 31 08:11:39 2002\\nReturn-Path: <bensul2004nng@spinfinder.com>\\nX-Sieve: cmu-sieve 2.0\\nReturn-Path: <bensul2004nng@spinfinder.com>\\nMessage-Id: <200210311310.g9VDANt24674@bloodwork.mr.itd.UM>\\nFrom: \"Mr. Ben Suleman\" <bensul2004nng@spinfinder.com>\\nDate: Thu, 31 Oct 2002 05:10:00\\nTo: R@M\\nSubject: URGENT ASSISTANCE /RELATIONSHIP (P)\\nMIME-Version: 1.0\\nContent-Type: text/plain;charset=\"iso-8859-1\"\\nContent-Transfer-Encoding: 7bit\\nStatus: O\\n\\nDear Friend,\\n\\nI am Mr. Ben Suleman a custom officer and work as Assistant controller of the Customs and Excise department Of the Federal Ministry of Internal Affairs stationed at the Murtala Mohammed International Airport, Ikeja, Lagos-Nigeria.\\n\\nAfter the sudden death of the former Head of state of Nigeria General Sanni Abacha on June 8th 1998 his aides and immediate members of his family were arrested while trying to escape from Nigeria in a Chartered jet to Saudi Arabia with 6 trunk boxes Marked \"Diplomatic Baggage\". Acting on a tip-off as they attempted to board the Air Craft,my officials carried out a thorough search on the air craft and discovered that the 6 trunk boxes contained foreign currencies amounting to US$197,570,000.00(One Hundred and  Ninety-Seven Million Five Hundred Seventy Thousand United States Dollars).\\n\\nI declared only (5) five boxes to the government and withheld one (1) in my custody containing the sum of (US$30,000,000.00) Thirty Million United States Dollars Only, which has been disguised to prevent their being discovered during transportation process.Due to several media reports on the late head of state about all the money him and his co-government officials stole from our government treasury amounting\\nto US$55 Billion Dollars (ref:ngrguardiannews.com) of July 2nd 1999. Even the London times of July 1998 reported that General Abacha has over US$3.Billion dollars in one account overseas. We decided to conceal this one (1)box till the situation is calm and quite on the issue. The box was thus deposited with a security company here in Nigeria and tagged as \"Precious Stones and Jewellry\" in other that its\\ncontent will not be discovered. Now that all is calm, we (myself and two of my colleagues in the operations team) are now ready to move this box out of the country through a diplomatic arrangement which is the safest means. \\n\\nHowever as government officials the Civil Service Code of Conduct does not allow us by law to operate any foreign account or own foreign investment and the amount of money that can be found in our account\\ncannot be more than our salary on the average, thus our handicapp and our need for your assistance to help collect and keep safely in your account this money.\\n\\nTherefore we want you to assist us in moving this money out of Nigeria. We shall definitely compensate you handsomely for the assistance. We can do this by instructing the Security Company here in Nigeria to\\nmove the consignment to their affiliate branch office outside Nigeria through diplomatic means and the consignment will be termed as Precious Stones and Jewelleries\" which you bought during your visit to Nigeria and is being transfered to your country from here for safe keeping. Then we can arrange to meet at the destination country to take the delivery of the consignment. You will thereafter open an account there and lodge the Money there and gradually instruct remittance to your Country. \\n\\nThis business is 100% risk free for you so please treat this matter with utmost confidentiality .If you indicate your interest to assist us please just e-mail me for more Explanation on how we plan to execute the transaction.\\n\\nExpecting your response urgently.\\n\\nBest regards,\\n\\nMr. Ben Suleman\\n\\nFrom r  Thu Oct 31 17:27:16 2002\\nReturn-Path: <obong_715@epatra.com>\\nX-Sieve: cmu-sieve 2.0\\nReturn-Path: <obong_715@epatra.com>\\nMessage-Id: <200210312227.g9VMQvDj017948@bluewhale.cs.CU>\\nFrom: \"PRINCE OBONG ELEME\" <obong_715@epatra.com>\\nReply-To: obong_715@epatra.com\\nTo: webmaster@aclweb.org\\nDate: Thu, 31 Oct 2002 22:17:55 +0100\\nSubject: GOOD DAY TO YOU\\nX-Mailer: Microsoft Outlook Express 5.00.2919.6900DM\\nMIME-Version: 1.0\\nContent-Type: text/plain; charset=\"us-ascii\"\\nContent-Transfer-Encoding: 8bit\\nX-MIME-Autoconverted: from quoted-printable to 8bit by sideshowmel.si.UM id g9VMRBW20642\\nStatus: RO\\n\\nFROM HIS ROYAL MAJESTY (HRM) CROWN RULER OF ELEME KINGDOM \\nCHIEF DANIEL ELEME, PHD, EZE 1 OF ELEME.E-MAIL \\nADDRESS:obong_715@epatra.com  \\n\\nATTENTION:PRESIDENT,CEO Sir/ Madam. \\n\\nThis letter might surprise you because we have met\\nneither in person nor by correspondence. But I believe\\nit is one day that you got to know somebody either in\\nphysical or through correspondence. \\n\\nI got your contact through discreet inquiry from the\\nchambers of commerce and industry of your country on\\nthe net, you and your organization were revealed as\\nbeing quite astute in private entrepreneurship, one\\nhas no doubt in your ability to handle a financialbusiness transaction. \\n\\nHowever, I am the first son of His Royal\\nmajesty,Obong.D. Eleme , and the traditional Ruler of\\nEleme Province in the oil producing area of River\\nState of Nigeria. I am making this contact to you in\\nrespect of US$60,000,000.00 (Sixty Million United\\nState Dollars), which I inherited, from my latefather. \\n\\nThis money was accumulated from royalties paid to my\\nfather as compensation by the oil firms located in our\\narea as a result of oil presence on our land, which\\nhamper agriculture, which is our major source oflivelihood. \\n\\nUnfortunately my father died from protracted\\ndiabetes.But before his death he called my attention\\nand informed me that he lodged some funds on a two\\nboxes with a security firm with an open beneficiary\\nstatus. The lodgment security code number was also\\nrevealed to me, he then advised me to look for a\\nreliable business partner abroad, that will assist me\\nin investing the money in a lucrative business as a\\nresult of economic instability in Nigeria. So this is\\nthe main reason why I am contacting you for us to move\\nthis money from the security firm to any Country of\\nyour choice for investment purpose. \\n\\nSo I will like you to be the ultimate beneficiary, so\\nthat the funds can be moved in your name and\\nparticulars to any Country of your choice where it\\nwill be claimed and invested. Hence my father have had\\nintimated the security firm personnel that the\\nbeneficiary of the box is his foreign partner whose\\nparticulars will be forwarded to the firm when due. \\n\\nBut I will guide you Accordingly. As soon as the funds\\nreach, I will then come over to meet you in person, so\\nthat we can discuss physically on investment\\npotentials. Based on this assistance my Family and I\\nhave unanimously decided to give you 30% of the total\\nmoney, 5% for Charity home, 10% for expenses, which\\nmay arise during this transaction, Fax and phone bills\\ninclusive. The balance of 55% you will invest andmanaged for my Family. \\n\\nI hereby guarantee you that this is not government\\nmoney, it is not drug money and it is not money from\\narms deal. Though you have to maintain high degree of\\nconfidentiality on this matter. I will give more\\ndetails about the proceedings of this transaction as\\nsoon as I receive your favorable reply. \\n\\nPlease reply to my Email Address:obong_715@epatra.com\\nI hope this will be the beginning of a prosperous\\nrelationship between my family and your family. \\n\\nNevertheless if you are for any reason not interested,\\nkindly inform me immediately so that I will look foranother contact. \\n\\nI am waiting for your quick response. \\n\\nYours faithfully, \\n\\nPrince Obong Abbot '"
      ]
     },
     "execution_count": 37,
     "metadata": {},
     "output_type": "execute_result"
    }
   ],
   "source": [
    "data"
   ]
  },
  {
   "cell_type": "code",
   "execution_count": 55,
   "id": "c81b3fc5",
   "metadata": {
    "scrolled": true
   },
   "outputs": [
    {
     "data": {
      "text/plain": [
       "''"
      ]
     },
     "execution_count": 55,
     "metadata": {},
     "output_type": "execute_result"
    }
   ],
   "source": [
    "contents = re.split(r\"From r\", data)\n",
    "contents.pop(0)"
   ]
  },
  {
   "cell_type": "code",
   "execution_count": 49,
   "id": "f49f4085",
   "metadata": {},
   "outputs": [],
   "source": [
    "# re.findall\n",
    "x = re.findall(\"From:.*\", data)"
   ]
  },
  {
   "cell_type": "code",
   "execution_count": 50,
   "id": "97e7a54f",
   "metadata": {},
   "outputs": [
    {
     "data": {
      "text/plain": [
       "['From: \"Mr. Ben Suleman\" <bensul2004nng@spinfinder.com>',\n",
       " 'From: \"PRINCE OBONG ELEME\" <obong_715@epatra.com>']"
      ]
     },
     "execution_count": 50,
     "metadata": {},
     "output_type": "execute_result"
    }
   ],
   "source": [
    "x"
   ]
  },
  {
   "cell_type": "code",
   "execution_count": 51,
   "id": "0b5c08f2",
   "metadata": {},
   "outputs": [],
   "source": [
    "#re.search\n",
    "y = re.search(\"From:.*\", data)"
   ]
  },
  {
   "cell_type": "code",
   "execution_count": 52,
   "id": "60004ce8",
   "metadata": {},
   "outputs": [
    {
     "data": {
      "text/plain": [
       "<re.Match object; span=(204, 258), match='From: \"Mr. Ben Suleman\" <bensul2004nng@spinfinder>"
      ]
     },
     "execution_count": 52,
     "metadata": {},
     "output_type": "execute_result"
    }
   ],
   "source": [
    "y"
   ]
  },
  {
   "cell_type": "code",
   "execution_count": 54,
   "id": "f4fa5ffb",
   "metadata": {
    "scrolled": true
   },
   "outputs": [
    {
     "data": {
      "text/plain": [
       "'Email r  Thu Oct 31 08:11:39 2002\\nReturn-Path: <bensul2004nng@spinfinder.com>\\nX-Sieve: cmu-sieve 2.0\\nReturn-Path: <bensul2004nng@spinfinder.com>\\nMessage-Id: <200210311310.g9VDANt24674@bloodwork.mr.itd.UM>\\nEmail: \"Mr. Ben Suleman\" <bensul2004nng@spinfinder.com>\\nDate: Thu, 31 Oct 2002 05:10:00\\nTo: R@M\\nSubject: URGENT ASSISTANCE /RELATIONSHIP (P)\\nMIME-Version: 1.0\\nContent-Type: text/plain;charset=\"iso-8859-1\"\\nContent-Transfer-Encoding: 7bit\\nStatus: O\\n\\nDear Friend,\\n\\nI am Mr. Ben Suleman a custom officer and work as Assistant controller of the Customs and Excise department Of the Federal Ministry of Internal Affairs stationed at the Murtala Mohammed International Airport, Ikeja, Lagos-Nigeria.\\n\\nAfter the sudden death of the former Head of state of Nigeria General Sanni Abacha on June 8th 1998 his aides and immediate members of his family were arrested while trying to escape from Nigeria in a Chartered jet to Saudi Arabia with 6 trunk boxes Marked \"Diplomatic Baggage\". Acting on a tip-off as they attempted to board the Air Craft,my officials carried out a thorough search on the air craft and discovered that the 6 trunk boxes contained foreign currencies amounting to US$197,570,000.00(One Hundred and  Ninety-Seven Million Five Hundred Seventy Thousand United States Dollars).\\n\\nI declared only (5) five boxes to the government and withheld one (1) in my custody containing the sum of (US$30,000,000.00) Thirty Million United States Dollars Only, which has been disguised to prevent their being discovered during transportation process.Due to several media reports on the late head of state about all the money him and his co-government officials stole from our government treasury amounting\\nto US$55 Billion Dollars (ref:ngrguardiannews.com) of July 2nd 1999. Even the London times of July 1998 reported that General Abacha has over US$3.Billion dollars in one account overseas. We decided to conceal this one (1)box till the situation is calm and quite on the issue. The box was thus deposited with a security company here in Nigeria and tagged as \"Precious Stones and Jewellry\" in other that its\\ncontent will not be discovered. Now that all is calm, we (myself and two of my colleagues in the operations team) are now ready to move this box out of the country through a diplomatic arrangement which is the safest means. \\n\\nHowever as government officials the Civil Service Code of Conduct does not allow us by law to operate any foreign account or own foreign investment and the amount of money that can be found in our account\\ncannot be more than our salary on the average, thus our handicapp and our need for your assistance to help collect and keep safely in your account this money.\\n\\nTherefore we want you to assist us in moving this money out of Nigeria. We shall definitely compensate you handsomely for the assistance. We can do this by instructing the Security Company here in Nigeria to\\nmove the consignment to their affiliate branch office outside Nigeria through diplomatic means and the consignment will be termed as Precious Stones and Jewelleries\" which you bought during your visit to Nigeria and is being transfered to your country from here for safe keeping. Then we can arrange to meet at the destination country to take the delivery of the consignment. You will thereafter open an account there and lodge the Money there and gradually instruct remittance to your Country. \\n\\nThis business is 100% risk free for you so please treat this matter with utmost confidentiality .If you indicate your interest to assist us please just e-mail me for more Explanation on how we plan to execute the transaction.\\n\\nExpecting your response urgently.\\n\\nBest regards,\\n\\nMr. Ben Suleman\\n\\nEmail r  Thu Oct 31 17:27:16 2002\\nReturn-Path: <obong_715@epatra.com>\\nX-Sieve: cmu-sieve 2.0\\nReturn-Path: <obong_715@epatra.com>\\nMessage-Id: <200210312227.g9VMQvDj017948@bluewhale.cs.CU>\\nEmail: \"PRINCE OBONG ELEME\" <obong_715@epatra.com>\\nReply-To: obong_715@epatra.com\\nTo: webmaster@aclweb.org\\nDate: Thu, 31 Oct 2002 22:17:55 +0100\\nSubject: GOOD DAY TO YOU\\nX-Mailer: Microsoft Outlook Express 5.00.2919.6900DM\\nMIME-Version: 1.0\\nContent-Type: text/plain; charset=\"us-ascii\"\\nContent-Transfer-Encoding: 8bit\\nX-MIME-Autoconverted: from quoted-printable to 8bit by sideshowmel.si.UM id g9VMRBW20642\\nStatus: RO\\n\\nFROM HIS ROYAL MAJESTY (HRM) CROWN RULER OF ELEME KINGDOM \\nCHIEF DANIEL ELEME, PHD, EZE 1 OF ELEME.E-MAIL \\nADDRESS:obong_715@epatra.com  \\n\\nATTENTION:PRESIDENT,CEO Sir/ Madam. \\n\\nThis letter might surprise you because we have met\\nneither in person nor by correspondence. But I believe\\nit is one day that you got to know somebody either in\\nphysical or through correspondence. \\n\\nI got your contact through discreet inquiry from the\\nchambers of commerce and industry of your country on\\nthe net, you and your organization were revealed as\\nbeing quite astute in private entrepreneurship, one\\nhas no doubt in your ability to handle a financialbusiness transaction. \\n\\nHowever, I am the first son of His Royal\\nmajesty,Obong.D. Eleme , and the traditional Ruler of\\nEleme Province in the oil producing area of River\\nState of Nigeria. I am making this contact to you in\\nrespect of US$60,000,000.00 (Sixty Million United\\nState Dollars), which I inherited, from my latefather. \\n\\nThis money was accumulated from royalties paid to my\\nfather as compensation by the oil firms located in our\\narea as a result of oil presence on our land, which\\nhamper agriculture, which is our major source oflivelihood. \\n\\nUnfortunately my father died from protracted\\ndiabetes.But before his death he called my attention\\nand informed me that he lodged some funds on a two\\nboxes with a security firm with an open beneficiary\\nstatus. The lodgment security code number was also\\nrevealed to me, he then advised me to look for a\\nreliable business partner abroad, that will assist me\\nin investing the money in a lucrative business as a\\nresult of economic instability in Nigeria. So this is\\nthe main reason why I am contacting you for us to move\\nthis money from the security firm to any Country of\\nyour choice for investment purpose. \\n\\nSo I will like you to be the ultimate beneficiary, so\\nthat the funds can be moved in your name and\\nparticulars to any Country of your choice where it\\nwill be claimed and invested. Hence my father have had\\nintimated the security firm personnel that the\\nbeneficiary of the box is his foreign partner whose\\nparticulars will be forwarded to the firm when due. \\n\\nBut I will guide you Accordingly. As soon as the funds\\nreach, I will then come over to meet you in person, so\\nthat we can discuss physically on investment\\npotentials. Based on this assistance my Family and I\\nhave unanimously decided to give you 30% of the total\\nmoney, 5% for Charity home, 10% for expenses, which\\nmay arise during this transaction, Fax and phone bills\\ninclusive. The balance of 55% you will invest andmanaged for my Family. \\n\\nI hereby guarantee you that this is not government\\nmoney, it is not drug money and it is not money from\\narms deal. Though you have to maintain high degree of\\nconfidentiality on this matter. I will give more\\ndetails about the proceedings of this transaction as\\nsoon as I receive your favorable reply. \\n\\nPlease reply to my Email Address:obong_715@epatra.com\\nI hope this will be the beginning of a prosperous\\nrelationship between my family and your family. \\n\\nNevertheless if you are for any reason not interested,\\nkindly inform me immediately so that I will look foranother contact. \\n\\nI am waiting for your quick response. \\n\\nYours faithfully, \\n\\nPrince Obong Abbot '"
      ]
     },
     "execution_count": 54,
     "metadata": {},
     "output_type": "execute_result"
    }
   ],
   "source": [
    "#re.sub\n",
    "b = re.sub(\"From\", \"Email\", data)\n",
    "b"
   ]
  },
  {
   "cell_type": "markdown",
   "id": "fc5e0a1f",
   "metadata": {},
   "source": [
    "### Get Sender Email"
   ]
  },
  {
   "cell_type": "code",
   "execution_count": 5,
   "id": "50406d27",
   "metadata": {},
   "outputs": [],
   "source": [
    "for item in contents:\n",
    "    emails_dict = {}\n",
    "    \n",
    "    #find the whole line beginning with \"From:\".\n",
    "    sender = re.search(r\"From:.*\", item)"
   ]
  },
  {
   "cell_type": "code",
   "execution_count": 6,
   "id": "60508d76",
   "metadata": {},
   "outputs": [],
   "source": [
    "# Step 2: find the email address and name.\n",
    "if sender is not None:\n",
    "    s_email = re.search(r\"\\w\\S*@.*\\w\", sender.group())\n",
    "    s_name = re.search(r\":.*<\", sender.group())\n",
    "else:\n",
    "    s_email = None\n",
    "    s_name = None"
   ]
  },
  {
   "cell_type": "code",
   "execution_count": 7,
   "id": "5aa373f4",
   "metadata": {},
   "outputs": [
    {
     "name": "stdout",
     "output_type": "stream",
     "text": [
      "sender type: <class 're.Match'>\n",
      "sender.group() type: <class 'str'>\n",
      "sender: <re.Match object; span=(180, 229), match='From: \"PRINCE OBONG ELEME\" <obong_715@epatra.com>>\n",
      "sender.group(): From: \"PRINCE OBONG ELEME\" <obong_715@epatra.com>\n"
     ]
    }
   ],
   "source": [
    "print(\"sender type: \" + str(type(sender)))\n",
    "print(\"sender.group() type: \" + str(type(sender.group())))\n",
    "print(\"sender: \" + str(sender))\n",
    "print(\"sender.group(): \" + str(sender.group()))"
   ]
  },
  {
   "cell_type": "code",
   "execution_count": 31,
   "id": "a03b1d19",
   "metadata": {},
   "outputs": [],
   "source": [
    "if s_email is not None:\n",
    "    sender_email = s_email.group()\n",
    "else:\n",
    "    sender_email = None\n",
    "# Add email address to dictionary.\n",
    "emails_dict[\"sender_email\"] = sender_email"
   ]
  },
  {
   "cell_type": "code",
   "execution_count": 24,
   "id": "a93bcd96",
   "metadata": {},
   "outputs": [],
   "source": [
    "# Step 3B: remove unwanted substrings, assign to variable.\n",
    "#if s_name is not None:\n",
    "    sender_name = re.sub(\"s*<\", \"\", re.sub(\":s*\", \"\", s_name.group()))\n",
    "#else:\n",
    "    sender_name = None\n",
    "\n",
    "# Add sender's name to dictionary.\n",
    "#emails_dict[\"sender_name\"] = sender_name"
   ]
  },
  {
   "cell_type": "code",
   "execution_count": 10,
   "id": "328eabe3",
   "metadata": {},
   "outputs": [
    {
     "name": "stdout",
     "output_type": "stream",
     "text": [
      "obong_715@epatra.com\n",
      " \"PRINCE OBONG ELEME\" \n"
     ]
    }
   ],
   "source": [
    "print(sender_email)\n",
    "print(sender_name)"
   ]
  },
  {
   "cell_type": "markdown",
   "id": "9892ac1a",
   "metadata": {},
   "source": [
    "### Get Recipient's Email"
   ]
  },
  {
   "cell_type": "code",
   "execution_count": 11,
   "id": "efd491a4",
   "metadata": {},
   "outputs": [],
   "source": [
    "recipient = re.search(r\"To:.*\", item)"
   ]
  },
  {
   "cell_type": "code",
   "execution_count": 12,
   "id": "4b8c95d6",
   "metadata": {},
   "outputs": [],
   "source": [
    "if recipient is not None:\n",
    "    r_email = re.search(r\"wS*@.*w\", recipient.group())\n",
    "    r_name = re.search(r\":.*<\", recipient.group())\n",
    "else:\n",
    "    r_email = None\n",
    "    r_name = None"
   ]
  },
  {
   "cell_type": "code",
   "execution_count": 13,
   "id": "2eb29598",
   "metadata": {},
   "outputs": [],
   "source": [
    "if r_email is not None:\n",
    "    recipient_email = r_email.group()\n",
    "else:\n",
    "    recipient_email = None\n",
    "\n",
    "emails_dict[\"recipient_email\"] = recipient_email\n",
    "\n",
    "if r_name is not None:\n",
    "    recipient_name = re.sub(\"\\s*<\", \"\", re.sub(\":\\s*\", \"\", r_name.group()))\n",
    "else:\n",
    "    recipient_name = None\n",
    "\n",
    "emails_dict[\"recipient_name\"] = recipient_name"
   ]
  },
  {
   "cell_type": "code",
   "execution_count": 14,
   "id": "13ae82a9",
   "metadata": {},
   "outputs": [
    {
     "data": {
      "text/plain": [
       "{'sender_email': 'obong_715@epatra.com',\n",
       " 'sender_name': ' \"PRINCE OBONG ELEME\" ',\n",
       " 'recipient_email': None,\n",
       " 'recipient_name': None}"
      ]
     },
     "execution_count": 14,
     "metadata": {},
     "output_type": "execute_result"
    }
   ],
   "source": [
    "emails_dict"
   ]
  },
  {
   "cell_type": "markdown",
   "id": "ebd762a2",
   "metadata": {},
   "source": [
    "### Get Date of the Email"
   ]
  },
  {
   "cell_type": "code",
   "execution_count": 15,
   "id": "ca75814a",
   "metadata": {},
   "outputs": [],
   "source": [
    "for item in contents:\n",
    "# First two lines again so that Jupyter runs the code.\n",
    "    emails_dict = {}\n",
    "\n",
    "    date_field = re.search(r\"Date:.*\", item)"
   ]
  },
  {
   "cell_type": "code",
   "execution_count": 16,
   "id": "768d5112",
   "metadata": {},
   "outputs": [
    {
     "name": "stdout",
     "output_type": "stream",
     "text": [
      "Date: Thu, 31 Oct 2002 22:17:55 +0100\n"
     ]
    }
   ],
   "source": [
    "if date_field is not None:\n",
    "    date = re.search(r\"\\d+\\s\\w+\\s\\d+\", date_field.group())\n",
    "else:\n",
    "    date = None\n",
    "\n",
    "print(date_field.group())"
   ]
  },
  {
   "cell_type": "code",
   "execution_count": 28,
   "id": "bf673699",
   "metadata": {},
   "outputs": [
    {
     "name": "stdout",
     "output_type": "stream",
     "text": [
      "31 Oct 2002\n",
      " 31 \n"
     ]
    }
   ],
   "source": [
    "date = re.search(r\"\\d+\\s\\w+\\s\\d+\", date_field.group())\n",
    "\n",
    "# What happens when we use * instead?\n",
    "date_star_test = re.search(r\"\\d*\\s\\w*\\s\\d*\", date_field.group())\n",
    "\n",
    "date_sent = date.group()\n",
    "date_star = date_star_test.group()\n",
    "\n",
    "if date is not None:\n",
    "    date_sent = date.group()\n",
    "    date_star = date_star_test.group()\n",
    "else:\n",
    "    date_sent = None\n",
    "\n",
    "emails_dict[\"date_sent\"] = date_sent\n",
    "\n",
    "print(date_sent)\n",
    "print(date_star)"
   ]
  },
  {
   "cell_type": "markdown",
   "id": "7f8feaa1",
   "metadata": {},
   "source": [
    "### Get the Email Subject"
   ]
  },
  {
   "cell_type": "code",
   "execution_count": 18,
   "id": "84f99200",
   "metadata": {},
   "outputs": [],
   "source": [
    "for item in contents:\n",
    "# First two lines again so that Jupyter runs the code.\n",
    "    emails_dict = {}\n",
    "\n",
    "    subject_field = re.search(r\"Subject:.*\", item)\n",
    "\n",
    "    if subject_field is not None:\n",
    "        subject = re.sub(r\"Subject:\", \"\", subject_field.group())\n",
    "    else:\n",
    "        subject = None\n",
    "\n",
    "    emails_dict[\"subject\"] = subject"
   ]
  },
  {
   "cell_type": "markdown",
   "id": "c53286bc",
   "metadata": {},
   "source": [
    "### Get Email Body"
   ]
  },
  {
   "cell_type": "code",
   "execution_count": 19,
   "id": "dfe27544",
   "metadata": {},
   "outputs": [],
   "source": [
    "full_email = email.message_from_string(item)\n",
    "body = full_email.get_payload()\n",
    "emails_dict[\"email_body\"] = body"
   ]
  },
  {
   "cell_type": "code",
   "execution_count": 25,
   "id": "81376dca",
   "metadata": {},
   "outputs": [],
   "source": [
    "emails.append(emails_dict)"
   ]
  },
  {
   "cell_type": "code",
   "execution_count": 21,
   "id": "1bc20193",
   "metadata": {},
   "outputs": [
    {
     "name": "stdout",
     "output_type": "stream",
     "text": [
      "Number of emails: 2\n",
      "subject: GOOD DAY TO YOU\n",
      "email_body: FROM HIS ROYAL MAJESTY (HRM) CROWN RULER OF ELEME KINGDOM \n",
      "CHIEF DANIEL ELEME, PHD, EZE 1 OF ELEME.E-MAIL \n",
      "ADDRESS:obong_715@epatra.com  \n",
      "\n",
      "ATTENTION:PRESIDENT,CEO Sir/ Madam. \n",
      "\n",
      "This letter might surprise you because we have met\n",
      "neither in person nor by correspondence. But I believe\n",
      "it is one day that you got to know somebody either in\n",
      "physical or through correspondence. \n",
      "\n",
      "I got your contact through discreet inquiry from the\n",
      "chambers of commerce and industry of your country on\n",
      "the net, you and your organization were revealed as\n",
      "being quite astute in private entrepreneurship, one\n",
      "has no doubt in your ability to handle a financialbusiness transaction. \n",
      "\n",
      "However, I am the first son of His Royal\n",
      "majesty,Obong.D. Eleme , and the traditional Ruler of\n",
      "Eleme Province in the oil producing area of River\n",
      "State of Nigeria. I am making this contact to you in\n",
      "respect of US$60,000,000.00 (Sixty Million United\n",
      "State Dollars), which I inherited, from my latefather. \n",
      "\n",
      "This money was accumulated from royalties paid to my\n",
      "father as compensation by the oil firms located in our\n",
      "area as a result of oil presence on our land, which\n",
      "hamper agriculture, which is our major source oflivelihood. \n",
      "\n",
      "Unfortunately my father died from protracted\n",
      "diabetes.But before his death he called my attention\n",
      "and informed me that he lodged some funds on a two\n",
      "boxes with a security firm with an open beneficiary\n",
      "status. The lodgment security code number was also\n",
      "revealed to me, he then advised me to look for a\n",
      "reliable business partner abroad, that will assist me\n",
      "in investing the money in a lucrative business as a\n",
      "result of economic instability in Nigeria. So this is\n",
      "the main reason why I am contacting you for us to move\n",
      "this money from the security firm to any Country of\n",
      "your choice for investment purpose. \n",
      "\n",
      "So I will like you to be the ultimate beneficiary, so\n",
      "that the funds can be moved in your name and\n",
      "particulars to any Country of your choice where it\n",
      "will be claimed and invested. Hence my father have had\n",
      "intimated the security firm personnel that the\n",
      "beneficiary of the box is his foreign partner whose\n",
      "particulars will be forwarded to the firm when due. \n",
      "\n",
      "But I will guide you Accordingly. As soon as the funds\n",
      "reach, I will then come over to meet you in person, so\n",
      "that we can discuss physically on investment\n",
      "potentials. Based on this assistance my Family and I\n",
      "have unanimously decided to give you 30% of the total\n",
      "money, 5% for Charity home, 10% for expenses, which\n",
      "may arise during this transaction, Fax and phone bills\n",
      "inclusive. The balance of 55% you will invest andmanaged for my Family. \n",
      "\n",
      "I hereby guarantee you that this is not government\n",
      "money, it is not drug money and it is not money from\n",
      "arms deal. Though you have to maintain high degree of\n",
      "confidentiality on this matter. I will give more\n",
      "details about the proceedings of this transaction as\n",
      "soon as I receive your favorable reply. \n",
      "\n",
      "Please reply to my Email Address:obong_715@epatra.com\n",
      "I hope this will be the beginning of a prosperous\n",
      "relationship between my family and your family. \n",
      "\n",
      "Nevertheless if you are for any reason not interested,\n",
      "kindly inform me immediately so that I will look foranother contact. \n",
      "\n",
      "I am waiting for your quick response. \n",
      "\n",
      "Yours faithfully, \n",
      "\n",
      "Prince Obong Abbot \n"
     ]
    }
   ],
   "source": [
    "# Print number of dictionaries, and hence, emails, in the list.\n",
    "print(\"Number of emails: \" + str(len(emails_dict)))\n",
    "\n",
    "\n",
    "# Print first item in the emails list to see how it looks.\n",
    "for key, value in emails[0].items():\n",
    "    print(str(key) + \": \" + str(emails[0][key]))"
   ]
  },
  {
   "cell_type": "code",
   "execution_count": 32,
   "id": "0e9728e1",
   "metadata": {},
   "outputs": [],
   "source": [
    "emails_df = pd.DataFrame(emails)"
   ]
  },
  {
   "cell_type": "code",
   "execution_count": 33,
   "id": "3111b015",
   "metadata": {},
   "outputs": [
    {
     "data": {
      "text/html": [
       "<div>\n",
       "<style scoped>\n",
       "    .dataframe tbody tr th:only-of-type {\n",
       "        vertical-align: middle;\n",
       "    }\n",
       "\n",
       "    .dataframe tbody tr th {\n",
       "        vertical-align: top;\n",
       "    }\n",
       "\n",
       "    .dataframe thead th {\n",
       "        text-align: right;\n",
       "    }\n",
       "</style>\n",
       "<table border=\"1\" class=\"dataframe\">\n",
       "  <thead>\n",
       "    <tr style=\"text-align: right;\">\n",
       "      <th></th>\n",
       "      <th>subject</th>\n",
       "      <th>email_body</th>\n",
       "      <th>sender_name</th>\n",
       "      <th>date_sent</th>\n",
       "      <th>sender_email</th>\n",
       "    </tr>\n",
       "  </thead>\n",
       "  <tbody>\n",
       "    <tr>\n",
       "      <th>0</th>\n",
       "      <td>GOOD DAY TO YOU</td>\n",
       "      <td>FROM HIS ROYAL MAJESTY (HRM) CROWN RULER OF EL...</td>\n",
       "      <td>\"PRINCE OBONG ELEME\"</td>\n",
       "      <td>31 Oct 2002</td>\n",
       "      <td>obong_715@epatra.com</td>\n",
       "    </tr>\n",
       "    <tr>\n",
       "      <th>1</th>\n",
       "      <td>GOOD DAY TO YOU</td>\n",
       "      <td>FROM HIS ROYAL MAJESTY (HRM) CROWN RULER OF EL...</td>\n",
       "      <td>\"PRINCE OBONG ELEME\"</td>\n",
       "      <td>31 Oct 2002</td>\n",
       "      <td>obong_715@epatra.com</td>\n",
       "    </tr>\n",
       "  </tbody>\n",
       "</table>\n",
       "</div>"
      ],
      "text/plain": [
       "           subject                                         email_body  \\\n",
       "0  GOOD DAY TO YOU  FROM HIS ROYAL MAJESTY (HRM) CROWN RULER OF EL...   \n",
       "1  GOOD DAY TO YOU  FROM HIS ROYAL MAJESTY (HRM) CROWN RULER OF EL...   \n",
       "\n",
       "              sender_name    date_sent          sender_email  \n",
       "0   \"PRINCE OBONG ELEME\"   31 Oct 2002  obong_715@epatra.com  \n",
       "1   \"PRINCE OBONG ELEME\"   31 Oct 2002  obong_715@epatra.com  "
      ]
     },
     "execution_count": 33,
     "metadata": {},
     "output_type": "execute_result"
    }
   ],
   "source": [
    "emails_df"
   ]
  },
  {
   "cell_type": "code",
   "execution_count": null,
   "id": "b70abac7",
   "metadata": {},
   "outputs": [],
   "source": []
  }
 ],
 "metadata": {
  "kernelspec": {
   "display_name": "Python 3 (ipykernel)",
   "language": "python",
   "name": "python3"
  },
  "language_info": {
   "codemirror_mode": {
    "name": "ipython",
    "version": 3
   },
   "file_extension": ".py",
   "mimetype": "text/x-python",
   "name": "python",
   "nbconvert_exporter": "python",
   "pygments_lexer": "ipython3",
   "version": "3.9.13"
  }
 },
 "nbformat": 4,
 "nbformat_minor": 5
}
